{
 "cells": [
  {
   "cell_type": "code",
   "execution_count": 2,
   "id": "fd33cc3c",
   "metadata": {},
   "outputs": [],
   "source": [
    "from tabulate import tabulate\n",
    "\n",
    "class Transaction:\n",
    "    \"\"\"\n",
    "    Class untuk mengelola transaksi pembelian barang.\n",
    "    \"\"\"\n",
    "\n",
    "    def __init__(self):\n",
    "        \"\"\"\n",
    "        Inisialisasi objek transaksi dengan daftar pesanan kosong.\n",
    "        \"\"\"\n",
    "        self.order_items = {}\n",
    "\n",
    "    def add_item(self, nama_item, jumlah_item, harga_per_item):\n",
    "        \"\"\"\n",
    "        Menambahkan item ke dalam daftar pesanan.\n",
    "\n",
    "        Parameter:\n",
    "            nama_item (str): Nama item.\n",
    "            jumlah_item (int): Jumlah item berupa integer\n",
    "            harga_per_item (int): Harga per item berupa integer.\n",
    "        \"\"\"\n",
    "        try:\n",
    "            jumlah_item = int(jumlah_item)\n",
    "            harga_per_item = int(harga_per_item)\n",
    "        except ValueError:\n",
    "            raise ValueError(\"Jumlah item dan harga per item harus berupa angka.\")\n",
    "\n",
    "        item = {\n",
    "            \"Nama Item\": nama_item,\n",
    "            \"Jumlah Item\": jumlah_item,\n",
    "            \"Harga/Item\": harga_per_item,\n",
    "        }\n",
    "        self.order_items[nama_item] = item\n",
    "\n",
    "    def update_item_name(self, nama_item, update_nama_item):\n",
    "        \"\"\"\n",
    "        Mengupdate nama item dalam daftar pesanan.\n",
    "\n",
    "        Parameter:\n",
    "            nama_item (str): Nama item yang akan diupdate.\n",
    "            update_nama_item (str): Nama baru untuk item tersebut.\n",
    "        \"\"\"\n",
    "        if nama_item in self.order_items:\n",
    "            self.order_items[update_nama_item] = self.order_items.pop(nama_item)\n",
    "\n",
    "    def update_item_qty(self, nama_item, update_jumlah_item):\n",
    "        \"\"\"\n",
    "        Mengupdate jumlah item dalam daftar pesanan.\n",
    "\n",
    "        Parameter:\n",
    "            nama_item (str): Nama item yang akan diupdate jumlahnya.\n",
    "            update_jumlah_item (int): Jumlah baru untuk item tersebut.\n",
    "        \"\"\"\n",
    "        if nama_item in self.order_items:\n",
    "            self.order_items[nama_item][\"Jumlah Item\"] = update_jumlah_item\n",
    "\n",
    "    def update_item_price(self, nama_item, update_harga_item):\n",
    "        \"\"\"\n",
    "        Mengupdate harga item dalam daftar pesanan.\n",
    "\n",
    "        Parameter:\n",
    "            nama_item (str): Nama item yang akan diupdate harganya.\n",
    "            update_harga_item (int): Harga baru untuk item tersebut.\n",
    "        \"\"\"\n",
    "        if nama_item in self.order_items:\n",
    "            self.order_items[nama_item][\"Harga/Item\"] = update_harga_item\n",
    "\n",
    "    def delete_item(self, nama_item):\n",
    "        \"\"\"\n",
    "        Menghapus item dari daftar pesanan.\n",
    "\n",
    "        Parameter:\n",
    "            nama_item (str): Nama item yang akan dihapus.\n",
    "        \"\"\"\n",
    "        if nama_item in self.order_items:\n",
    "            del self.order_items[nama_item]\n",
    "\n",
    "    def reset_transaction(self):\n",
    "        \"\"\"\n",
    "        Mengosongkan daftar pesanan.\n",
    "        \"\"\"\n",
    "        self.order_items = {}\n",
    "        print(\"Daftar Pesanan Anda Berhasil Dikosongkan\")\n",
    "\n",
    "    def display_order(self):\n",
    "        \"\"\"\n",
    "        Menampilkan daftar pesanan dalam bentuk tabel.\n",
    "        \"\"\"\n",
    "        headers = [\"No.\", \"Nama Item\", \"Jumlah Item\", \"Harga/Item\", \"Total Harga\"]\n",
    "        display_order = []\n",
    "\n",
    "        for n, (nama_item, data_item) in enumerate(self.order_items.items(), start=1):\n",
    "            item_qty, item_price = data_item[\"Jumlah Item\"], data_item[\"Harga/Item\"]\n",
    "            total = item_qty * item_price\n",
    "            display_order.append([n, nama_item, item_qty, item_price, total])\n",
    "\n",
    "        print(tabulate(display_order, headers, tablefmt=\"fancy_grid\"))\n",
    "\n",
    "    def check_order(self):\n",
    "        \"\"\"\n",
    "        Memeriksa validitas daftar pesanan.\n",
    "        \"\"\"\n",
    "        error = any(\n",
    "            not isinstance(nama_item, str) or not nama_item\n",
    "            or not isinstance(item_data[\"Jumlah Item\"], int) or not isinstance(item_data[\"Harga/Item\"], int)\n",
    "            or item_data[\"Jumlah Item\"] <= 0 or item_data[\"Harga/Item\"] <= 0\n",
    "            for nama_item, item_data in self.order_items.items()\n",
    "        )\n",
    "\n",
    "        if error:\n",
    "            raise ValueError(\"Terdapat kesalahan input data\")\n",
    "        else:\n",
    "            print(\"Pemesanan sudah benar\")\n",
    "            print(\"\\n\")            \n",
    "            print(\"Berikut Daftar Pemesanan Anda\")\n",
    "            self.display_order()\n",
    "\n",
    "    def total_price(self):\n",
    "        \"\"\"\n",
    "        Menghitung dan menampilkan total harga pesanan dengan atauran diskon.\n",
    "        Jika total harga belanja lebih dari 500000 maka mendapatkan diskon sebesar 10%.\n",
    "        Jika total harga belanja lebih dari 300000 maka mendapatkan diskon sebesar 8%.\n",
    "        Jika total harga belanja lebih dari 200000 maka mendapatkan diskon sebesar 5%.\n",
    "        Jika dibawah 200000 tidak mendapatkan diskon.\n",
    "        \"\"\"\n",
    "        total_harga = sum(item[\"Jumlah Item\"] * item[\"Harga/Item\"] for item in self.order_items.values())\n",
    "        discount = 0  # Default to no discount\n",
    "\n",
    "        if total_harga > 500000:\n",
    "            discount = 0.1  # 10% discount\n",
    "        elif total_harga > 300000:\n",
    "            discount = 0.08  # 8% discount\n",
    "        elif total_harga > 200000:\n",
    "            discount = 0.05  # 5% discount\n",
    "\n",
    "        if discount > 0:\n",
    "            discount_amount = total_harga * discount  # Calculate the discount amount\n",
    "            total_harga -= discount_amount  # Apply the discount\n",
    "            print(f\"Total Belanja sebelum diskon: Rp {total_harga + discount_amount}\")\n",
    "            print(f\"Anda Berhak Mendapatkan Diskon {discount * 100}%\")\n",
    "            print(f\"Jumlah Diskon: Rp {discount_amount}\")\n",
    "            print(f\"Yang harus dibayarkan setelah diskon: Rp. {total_harga}\")\n",
    "        else:\n",
    "            print(f\"Total Belanja: Rp {total_harga}\")\n",
    "\n",
    "\n",
    "\n"
   ]
  },
  {
   "cell_type": "markdown",
   "id": "17dd6e77",
   "metadata": {},
   "source": [
    "# Test Case 1\n",
    "\n",
    "## Customer ingin menambahkan dua item baru menggunakan method add_item(). Item yang\n",
    "## ditambahkan adalah sebagai berikut:\n",
    "   ### Nama Item: Ayam Goreng, Qty: 2, Harga: 20000\n",
    "   ### Nama Item: Pasta Gigi, Qty: 3, Harga: 15000\n"
   ]
  },
  {
   "cell_type": "code",
   "execution_count": 3,
   "id": "485e0446",
   "metadata": {},
   "outputs": [
    {
     "name": "stdout",
     "output_type": "stream",
     "text": [
      "Pemesanan sudah benar\n",
      "\n",
      "\n",
      "Berikut Daftar Pemesanan Anda\n",
      "╒═══════╤═════════════╤═══════════════╤══════════════╤═══════════════╕\n",
      "│   No. │ Nama Item   │   Jumlah Item │   Harga/Item │   Total Harga │\n",
      "╞═══════╪═════════════╪═══════════════╪══════════════╪═══════════════╡\n",
      "│     1 │ Ayam Goreng │             2 │        20000 │         40000 │\n",
      "├───────┼─────────────┼───────────────┼──────────────┼───────────────┤\n",
      "│     2 │ Pasta Gigi  │             3 │        15000 │         45000 │\n",
      "╘═══════╧═════════════╧═══════════════╧══════════════╧═══════════════╛\n",
      "Total Belanja: Rp 85000\n"
     ]
    }
   ],
   "source": [
    "\n",
    "trnset123 = Transaction()\n",
    "trnset123.add_item(\"Ayam Goreng\", 2, 20000)\n",
    "trnset123.add_item(\"Pasta Gigi\", 3, 15000)\n",
    "\n",
    "try:\n",
    "    trnset123.check_order()\n",
    "    trnset123.total_price()\n",
    "except ValueError as e:\n",
    "    print(f\"Error: {e}\")"
   ]
  },
  {
   "cell_type": "markdown",
   "id": "5cd8738b",
   "metadata": {},
   "source": [
    "# Test Case 2\n",
    "\n",
    "## Temyata Customer salah membeli salah satu item dari belanjaan yang sudah ditambahkan,maka Customer menggunakan method delete_item () untuk menghapus item. Item yang ingin dihapuskan adalah Pasta Gigi.\n",
    "\n"
   ]
  },
  {
   "cell_type": "code",
   "execution_count": 4,
   "id": "8c2f3a4f",
   "metadata": {},
   "outputs": [
    {
     "name": "stdout",
     "output_type": "stream",
     "text": [
      "Pemesanan sudah benar\n",
      "\n",
      "\n",
      "Berikut Daftar Pemesanan Anda\n",
      "╒═══════╤═════════════╤═══════════════╤══════════════╤═══════════════╕\n",
      "│   No. │ Nama Item   │   Jumlah Item │   Harga/Item │   Total Harga │\n",
      "╞═══════╪═════════════╪═══════════════╪══════════════╪═══════════════╡\n",
      "│     1 │ Ayam Goreng │             2 │        20000 │         40000 │\n",
      "╘═══════╧═════════════╧═══════════════╧══════════════╧═══════════════╛\n",
      "Total Belanja: Rp 40000\n"
     ]
    }
   ],
   "source": [
    "\n",
    "trnset123.delete_item(\"Pasta Gigi\")\n",
    "try:\n",
    "    trnset123.check_order()\n",
    "    trnset123.total_price()\n",
    "except ValueError as e:\n",
    "    print(f\"Error: {e}\")"
   ]
  },
  {
   "cell_type": "markdown",
   "id": "6be6cc79",
   "metadata": {},
   "source": [
    "# Test Case 3\n",
    "## Temyata setelah dipikir-pikir Customer salah memasukkan item yang ingin dibelanjakan. Daripada menghapusnya satu-satu, maka Customer cukup menggunakan method reset transaction () untuk menghapus semua item yang sudah ditambahkan.\n"
   ]
  },
  {
   "cell_type": "code",
   "execution_count": 5,
   "id": "da40b84d",
   "metadata": {},
   "outputs": [
    {
     "name": "stdout",
     "output_type": "stream",
     "text": [
      "Daftar Pesanan Anda Berhasil Dikosongkan\n",
      "Pemesanan sudah benar\n",
      "\n",
      "\n",
      "Berikut Daftar Pemesanan Anda\n",
      "╒═══════╤═════════════╤═══════════════╤══════════════╤═══════════════╕\n",
      "│ No.   │ Nama Item   │ Jumlah Item   │ Harga/Item   │ Total Harga   │\n",
      "╞═══════╪═════════════╪═══════════════╪══════════════╪═══════════════╡\n",
      "╘═══════╧═════════════╧═══════════════╧══════════════╧═══════════════╛\n",
      "Total Belanja: Rp 0\n"
     ]
    }
   ],
   "source": [
    "\n",
    "trnset123.reset_transaction()\n",
    "try:\n",
    "    trnset123.check_order()\n",
    "    trnset123.total_price()\n",
    "except ValueError as e:\n",
    "    print(f\"Error: {e}\")"
   ]
  },
  {
   "cell_type": "markdown",
   "id": "5f581061",
   "metadata": {},
   "source": [
    "# Test Case 4\n",
    "## Setelah Customer selesai berbelanja, akan menghitung total belanja yang harus dibayarkan menggunakan method total price (). Sebelum mengeluarkan output total belanja akan menampilkan item-item yang dibeli.\n"
   ]
  },
  {
   "cell_type": "code",
   "execution_count": 6,
   "id": "db5b15aa",
   "metadata": {},
   "outputs": [
    {
     "name": "stdout",
     "output_type": "stream",
     "text": [
      "Pemesanan sudah benar\n",
      "\n",
      "\n",
      "Berikut Daftar Pemesanan Anda\n",
      "╒═══════╤═════════════╤═══════════════╤══════════════╤═══════════════╕\n",
      "│   No. │ Nama Item   │   Jumlah Item │   Harga/Item │   Total Harga │\n",
      "╞═══════╪═════════════╪═══════════════╪══════════════╪═══════════════╡\n",
      "│     1 │ Yoyo        │             1 │        20000 │         20000 │\n",
      "├───────┼─────────────┼───────────────┼──────────────┼───────────────┤\n",
      "│     2 │ Meja        │             3 │       150000 │        450000 │\n",
      "╘═══════╧═════════════╧═══════════════╧══════════════╧═══════════════╛\n",
      "Total Belanja sebelum diskon: Rp 470000.0\n",
      "Anda Berhak Mendapatkan Diskon 8.0%\n",
      "Jumlah Diskon: Rp 37600.0\n",
      "Yang harus dibayarkan setelah diskon: Rp. 432400.0\n"
     ]
    }
   ],
   "source": [
    "\n",
    "trnset123 = Transaction()\n",
    "trnset123.add_item(\"Yoyo\", 1, 20000)\n",
    "trnset123.add_item(\"Meja\", 3, 150000)\n",
    "\n",
    "try:\n",
    "    trnset123.check_order()\n",
    "    trnset123.total_price()\n",
    "except ValueError as e:\n",
    "    print(f\"Error: {e}\")"
   ]
  },
  {
   "cell_type": "code",
   "execution_count": null,
   "id": "4a8ca280",
   "metadata": {},
   "outputs": [],
   "source": []
  }
 ],
 "metadata": {
  "kernelspec": {
   "display_name": "Python 3 (ipykernel)",
   "language": "python",
   "name": "python3"
  },
  "language_info": {
   "codemirror_mode": {
    "name": "ipython",
    "version": 3
   },
   "file_extension": ".py",
   "mimetype": "text/x-python",
   "name": "python",
   "nbconvert_exporter": "python",
   "pygments_lexer": "ipython3",
   "version": "3.11.3"
  }
 },
 "nbformat": 4,
 "nbformat_minor": 5
}
